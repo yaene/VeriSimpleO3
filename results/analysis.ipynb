{
 "cells": [
  {
   "cell_type": "code",
   "execution_count": 28,
   "metadata": {},
   "outputs": [
    {
     "name": "stdout",
     "output_type": "stream",
     "text": [
      "\\begin{tabular}{lrr}\n",
      "\\toprule\n",
      " & cpi & MIPS \\\\\n",
      "program &  &  \\\\\n",
      "\\midrule\n",
      "rv32_copy.mem & 1.75 & 100.22 \\\\\n",
      "rv32_fib_rec.mem & 2.07 & 84.60 \\\\\n",
      "alexnet.mem & 1.70 & 103.00 \\\\\n",
      "backtrack.mem & 1.81 & 96.60 \\\\\n",
      "bfs.mem & 1.74 & 100.59 \\\\\n",
      "priority_queue.mem & 1.94 & 90.49 \\\\\n",
      "\\bottomrule\n",
      "\\end{tabular}\n",
      "\n"
     ]
    }
   ],
   "source": [
    "import pandas as pd\n",
    "baseline_period = 5.708/(10**9)\n",
    "baseline = pd.read_csv(\"inorder_baseline.csv\")\n",
    "baseline = baseline.set_index(\"program\")\n",
    "baseline[\"MIPS\"] = 1/(baseline[\"cpi\"]*baseline_period*10**6)\n",
    "baseline_no = baseline.drop(columns=[\"mem_instructions\", \"total_instructions\"])\n",
    "print(baseline_no.to_latex(float_format=\"{:.2f}\".format))"
   ]
  },
  {
   "cell_type": "code",
   "execution_count": 31,
   "metadata": {},
   "outputs": [
    {
     "name": "stdout",
     "output_type": "stream",
     "text": [
      "\\begin{tabular}{lrr}\n",
      "\\toprule\n",
      " & cpi & MIPS \\\\\n",
      "program &  &  \\\\\n",
      "\\midrule\n",
      "rv32_copy.mem & 5.85 & 29.96 \\\\\n",
      "rv32_fib_rec.mem & 5.99 & 29.26 \\\\\n",
      "alexnet.mem & 5.96 & 29.37 \\\\\n",
      "backtrack.mem & 6.26 & 27.98 \\\\\n",
      "bfs.mem & 5.97 & 29.36 \\\\\n",
      "priority_queue.mem & 6.64 & 26.37 \\\\\n",
      "\\bottomrule\n",
      "\\end{tabular}\n",
      "\n"
     ]
    }
   ],
   "source": [
    "baseline_3 = baseline.copy()\n",
    "baseline_3[\"cpi\"] = baseline[\"cpi\"] + (baseline[\"total_instructions\"]+baseline[\"mem_instructions\"]) * 3/baseline[\"total_instructions\"]\n",
    "baseline_3[\"MIPS\"] = 1/(baseline_3[\"cpi\"]*baseline_period*10**6)\n",
    "baseline_3 = baseline_3.drop(columns=[\"mem_instructions\", \"total_instructions\"])\n",
    "print(baseline_3.to_latex(float_format=\"{:.2f}\".format))"
   ]
  },
  {
   "cell_type": "code",
   "execution_count": 32,
   "metadata": {},
   "outputs": [
    {
     "name": "stdout",
     "output_type": "stream",
     "text": [
      "\\begin{tabular}{lrr}\n",
      "\\toprule\n",
      " & cpi & MIPS \\\\\n",
      "program &  &  \\\\\n",
      "\\midrule\n",
      "rv32_copy.mem & 2.85 & 61.53 \\\\\n",
      "rv32_fib_rec.mem & 2.99 & 58.64 \\\\\n",
      "alexnet.mem & 2.96 & 59.10 \\\\\n",
      "backtrack.mem & 3.26 & 53.71 \\\\\n",
      "bfs.mem & 2.97 & 59.04 \\\\\n",
      "priority_queue.mem & 3.64 & 48.07 \\\\\n",
      "\\bottomrule\n",
      "\\end{tabular}\n",
      "\n"
     ]
    }
   ],
   "source": [
    "baseline_3_perf = baseline.copy()\n",
    "\n",
    "baseline_3_perf[\"cpi\"] = baseline[\"cpi\"] + (baseline[\"mem_instructions\"]) * 3/baseline[\"total_instructions\"]\n",
    "baseline_3_perf[\"MIPS\"] = 1/(baseline_3_perf[\"cpi\"]*baseline_period*10**6)\n",
    "baseline_3_perf = baseline_3_perf.drop(columns=[\"mem_instructions\", \"total_instructions\"])\n",
    "print(baseline_3_perf.to_latex(float_format=\"{:.2f}\".format))"
   ]
  },
  {
   "cell_type": "code",
   "execution_count": 33,
   "metadata": {},
   "outputs": [
    {
     "name": "stdout",
     "output_type": "stream",
     "text": [
      "\\begin{tabular}{lrr}\n",
      "\\toprule\n",
      " & cpi & MIPS \\\\\n",
      "program &  &  \\\\\n",
      "\\midrule\n",
      "rv32_copy.mem & 8.58 & 20.42 \\\\\n",
      "rv32_fib_rec.mem & 8.60 & 20.37 \\\\\n",
      "alexnet.mem & 8.81 & 19.89 \\\\\n",
      "backtrack.mem & 9.23 & 18.99 \\\\\n",
      "bfs.mem & 8.78 & 19.94 \\\\\n",
      "priority_queue.mem & 9.78 & 17.91 \\\\\n",
      "\\bottomrule\n",
      "\\end{tabular}\n",
      "\n"
     ]
    }
   ],
   "source": [
    "baseline_5 = baseline.copy()\n",
    "baseline_5[\"cpi\"] = baseline[\"cpi\"] + (baseline[\"total_instructions\"]+baseline[\"mem_instructions\"]) * 5/baseline[\"total_instructions\"]\n",
    "baseline_5[\"MIPS\"] = 1/(baseline_5[\"cpi\"]*baseline_period*10**6)\n",
    "baseline_5 = baseline_5.drop(columns=[\"mem_instructions\", \"total_instructions\"])\n",
    "print(baseline_5.to_latex(float_format=\"{:.2f}\".format))"
   ]
  },
  {
   "cell_type": "code",
   "execution_count": 34,
   "metadata": {},
   "outputs": [
    {
     "name": "stdout",
     "output_type": "stream",
     "text": [
      "\\begin{tabular}{lrr}\n",
      "\\toprule\n",
      " & cpi & MIPS \\\\\n",
      "program &  &  \\\\\n",
      "\\midrule\n",
      "rv32_copy.mem & 3.58 & 48.93 \\\\\n",
      "rv32_fib_rec.mem & 3.60 & 48.68 \\\\\n",
      "alexnet.mem & 3.81 & 46.02 \\\\\n",
      "backtrack.mem & 4.23 & 41.44 \\\\\n",
      "bfs.mem & 3.78 & 46.29 \\\\\n",
      "priority_queue.mem & 4.78 & 36.63 \\\\\n",
      "\\bottomrule\n",
      "\\end{tabular}\n",
      "\n"
     ]
    }
   ],
   "source": [
    "baseline_5_perf = baseline.copy()\n",
    "\n",
    "baseline_5_perf[\"cpi\"] = baseline[\"cpi\"] + (baseline[\"mem_instructions\"]) * 5/baseline[\"total_instructions\"]\n",
    "baseline_5_perf[\"MIPS\"] = 1/(baseline_5_perf[\"cpi\"]*baseline_period*10**6)\n",
    "baseline_5_perf = baseline_5_perf.drop(columns=[\"mem_instructions\", \"total_instructions\"])\n",
    "print(baseline_5_perf.to_latex(float_format=\"{:.2f}\".format))"
   ]
  },
  {
   "cell_type": "code",
   "execution_count": null,
   "metadata": {},
   "outputs": [],
   "source": []
  }
 ],
 "metadata": {
  "kernelspec": {
   "display_name": "xvecbee",
   "language": "python",
   "name": "python3"
  },
  "language_info": {
   "codemirror_mode": {
    "name": "ipython",
    "version": 3
   },
   "file_extension": ".py",
   "mimetype": "text/x-python",
   "name": "python",
   "nbconvert_exporter": "python",
   "pygments_lexer": "ipython3",
   "version": "3.12.2"
  }
 },
 "nbformat": 4,
 "nbformat_minor": 2
}
