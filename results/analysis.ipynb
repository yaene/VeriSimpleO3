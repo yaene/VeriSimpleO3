{
 "cells": [
  {
   "cell_type": "code",
   "execution_count": 91,
   "metadata": {},
   "outputs": [
    {
     "name": "stdout",
     "output_type": "stream",
     "text": [
      "\\begin{tabular}{lrr}\n",
      "\\toprule\n",
      " & cpi & MIPS \\\\\n",
      "program &  &  \\\\\n",
      "\\midrule\n",
      "copy & 1.75 & 100.22 \\\\\n",
      "fib rec & 2.07 & 84.60 \\\\\n",
      "alexnet & 1.70 & 103.00 \\\\\n",
      "knight tour & 1.81 & 96.60 \\\\\n",
      "bfs & 1.74 & 100.59 \\\\\n",
      "prio queue & 1.94 & 90.49 \\\\\n",
      "\\bottomrule\n",
      "\\end{tabular}\n",
      "\n"
     ]
    }
   ],
   "source": [
    "import pandas as pd\n",
    "baseline_period = 5.708/(10**9)\n",
    "baseline = pd.read_csv(\"inorder_baseline.csv\")\n",
    "baseline = baseline.set_index(\"program\")\n",
    "baseline[\"MIPS\"] = 1/(baseline[\"cpi\"]*baseline_period*10**6)\n",
    "baseline_no = baseline.drop(columns=[\"mem_instructions\", \"total_instructions\"])\n",
    "print(baseline_no.to_latex(float_format=\"{:.2f}\".format))"
   ]
  },
  {
   "cell_type": "code",
   "execution_count": 92,
   "metadata": {},
   "outputs": [
    {
     "name": "stdout",
     "output_type": "stream",
     "text": [
      "\\begin{tabular}{lrrr}\n",
      "\\toprule\n",
      " & MIPS & MIPS_3 & MIPS_5 \\\\\n",
      "program &  &  &  \\\\\n",
      "\\midrule\n",
      "copy & 100.22 & 29.96 & 20.42 \\\\\n",
      "fib rec & 84.60 & 29.26 & 20.37 \\\\\n",
      "alexnet & 103.00 & 29.37 & 19.89 \\\\\n",
      "knight tour & 96.60 & 27.98 & 18.99 \\\\\n",
      "bfs & 100.59 & 29.36 & 19.94 \\\\\n",
      "prio queue & 90.49 & 26.37 & 17.91 \\\\\n",
      "\\bottomrule\n",
      "\\end{tabular}\n",
      "\n"
     ]
    }
   ],
   "source": [
    "baseline_stall = baseline.copy()\n",
    "baseline_stall[\"cpi_3\"] = baseline[\"cpi\"] + (baseline[\"total_instructions\"]+baseline[\"mem_instructions\"]) * 3/baseline[\"total_instructions\"]\n",
    "baseline_stall[\"cpi_5\"] = baseline[\"cpi\"] + (baseline[\"total_instructions\"]+baseline[\"mem_instructions\"]) * 5/baseline[\"total_instructions\"]\n",
    "baseline_stall[\"MIPS_3\"] = 1/(baseline_stall[\"cpi_3\"]*baseline_period*10**6)\n",
    "baseline_stall[\"MIPS_5\"] = 1/(baseline_stall[\"cpi_5\"]*baseline_period*10**6)\n",
    "baseline_stall = baseline_stall.drop(columns=[\"mem_instructions\", \"total_instructions\", \"cpi\", \"cpi_3\", \"cpi_5\"])\n",
    "print(baseline_stall.to_latex(float_format=\"{:.2f}\".format))"
   ]
  },
  {
   "cell_type": "code",
   "execution_count": 93,
   "metadata": {},
   "outputs": [
    {
     "name": "stdout",
     "output_type": "stream",
     "text": [
      "\\begin{tabular}{lrrr}\n",
      "\\toprule\n",
      " & MIPS & MIPS_3 & MIPS_5 \\\\\n",
      "program &  &  &  \\\\\n",
      "\\midrule\n",
      "copy & 100.22 & 61.53 & 48.93 \\\\\n",
      "fib rec & 84.60 & 58.64 & 48.68 \\\\\n",
      "alexnet & 103.00 & 59.10 & 46.02 \\\\\n",
      "knight tour & 96.60 & 53.71 & 41.44 \\\\\n",
      "bfs & 100.59 & 59.04 & 46.29 \\\\\n",
      "prio queue & 90.49 & 48.07 & 36.63 \\\\\n",
      "\\bottomrule\n",
      "\\end{tabular}\n",
      "\n"
     ]
    }
   ],
   "source": [
    "baseline_optimized = baseline.copy()\n",
    "\n",
    "baseline_optimized[\"cpi_3\"] = baseline[\"cpi\"] + (baseline[\"mem_instructions\"]) * 3/baseline[\"total_instructions\"]\n",
    "baseline_optimized[\"cpi_5\"] = baseline[\"cpi\"] + (baseline[\"mem_instructions\"]) * 5/baseline[\"total_instructions\"]\n",
    "baseline_optimized[\"MIPS_3\"] = 1/(baseline_optimized[\"cpi_3\"]*baseline_period*10**6)\n",
    "baseline_optimized[\"MIPS_5\"] = 1/(baseline_optimized[\"cpi_5\"]*baseline_period*10**6)\n",
    "baseline_optimized = baseline_optimized.drop(columns=[\"mem_instructions\", \"total_instructions\", \"cpi\", \"cpi_3\", \"cpi_5\"])\n",
    "print(baseline_optimized.to_latex(float_format=\"{:.2f}\".format))"
   ]
  },
  {
   "cell_type": "code",
   "execution_count": 94,
   "metadata": {},
   "outputs": [
    {
     "name": "stdout",
     "output_type": "stream",
     "text": [
      "\\begin{tabular}{lrrr}\n",
      "\\toprule\n",
      " & MIPS & MIPS_3 & MIPS_5 \\\\\n",
      "program &  &  &  \\\\\n",
      "\\midrule\n",
      "copy & 169.38 & 121.96 & 88.56 \\\\\n",
      "fib rec & 181.50 & 100.16 & 65.83 \\\\\n",
      "alexnet & 200.13 & 114.45 & 73.20 \\\\\n",
      "knight tour & 202.40 & 111.48 & 72.06 \\\\\n",
      "bfs & 212.85 & 113.52 & 75.47 \\\\\n",
      "prio queue & 187.19 & 94.38 & 60.76 \\\\\n",
      "\\bottomrule\n",
      "\\end{tabular}\n",
      "\n"
     ]
    }
   ],
   "source": [
    "o3_period = 3.069/(10**9)\n",
    "o3 = pd.read_csv(\"advanced_o3_0_delay.csv\")\n",
    "o3 = o3.join(pd.read_csv(\"advanced_o3_5_delay.csv\"), rsuffix=\"_3\")\n",
    "o3 = o3.join(pd.read_csv(\"advanced_o3_9_delay.csv\"), rsuffix=\"_5\")\n",
    "o3 = o3.set_index(\"program\")\n",
    "o3[\"MIPS\"] =  1/(o3[\"cpi\"]*o3_period*10**6)\n",
    "o3[\"MIPS_3\"] = 1/(o3[\"cpi3\"]*o3_period*10**6)\n",
    "o3[\"MIPS_5\"] = 1/(o3[\"cpi5\"]*o3_period*10**6)\n",
    "o3 = o3.drop(columns=[\"program_3\", \"program_5\", \"cpi\", \"cpi3\", \"cpi5\", \"inst_count\",\"inst_count_3\", \"inst_count_5\", \"branch_accuracy\", \"branch_accuracy_3\", \"branch_accuracy_5\"])\n",
    "print(o3.to_latex(float_format=\"{:.2f}\".format))"
   ]
  },
  {
   "cell_type": "code",
   "execution_count": 99,
   "metadata": {},
   "outputs": [
    {
     "data": {
      "text/html": [
       "<div>\n",
       "<style scoped>\n",
       "    .dataframe tbody tr th:only-of-type {\n",
       "        vertical-align: middle;\n",
       "    }\n",
       "\n",
       "    .dataframe tbody tr th {\n",
       "        vertical-align: top;\n",
       "    }\n",
       "\n",
       "    .dataframe thead th {\n",
       "        text-align: right;\n",
       "    }\n",
       "</style>\n",
       "<table border=\"1\" class=\"dataframe\">\n",
       "  <thead>\n",
       "    <tr style=\"text-align: right;\">\n",
       "      <th></th>\n",
       "      <th>MIPS</th>\n",
       "      <th>MIPS_3</th>\n",
       "      <th>MIPS_5</th>\n",
       "      <th>model</th>\n",
       "    </tr>\n",
       "    <tr>\n",
       "      <th>program</th>\n",
       "      <th></th>\n",
       "      <th></th>\n",
       "      <th></th>\n",
       "      <th></th>\n",
       "    </tr>\n",
       "  </thead>\n",
       "  <tbody>\n",
       "    <tr>\n",
       "      <th>copy</th>\n",
       "      <td>169.384589</td>\n",
       "      <td>121.956884</td>\n",
       "      <td>88.557920</td>\n",
       "      <td>o3</td>\n",
       "    </tr>\n",
       "    <tr>\n",
       "      <th>fib rec</th>\n",
       "      <td>181.499029</td>\n",
       "      <td>100.163426</td>\n",
       "      <td>65.831800</td>\n",
       "      <td>o3</td>\n",
       "    </tr>\n",
       "    <tr>\n",
       "      <th>alexnet</th>\n",
       "      <td>200.134903</td>\n",
       "      <td>114.451045</td>\n",
       "      <td>73.202713</td>\n",
       "      <td>o3</td>\n",
       "    </tr>\n",
       "    <tr>\n",
       "      <th>knight tour</th>\n",
       "      <td>202.395180</td>\n",
       "      <td>111.482230</td>\n",
       "      <td>72.056224</td>\n",
       "      <td>o3</td>\n",
       "    </tr>\n",
       "    <tr>\n",
       "      <th>bfs</th>\n",
       "      <td>212.846494</td>\n",
       "      <td>113.523786</td>\n",
       "      <td>75.473660</td>\n",
       "      <td>o3</td>\n",
       "    </tr>\n",
       "    <tr>\n",
       "      <th>prio queue</th>\n",
       "      <td>187.186895</td>\n",
       "      <td>94.376478</td>\n",
       "      <td>60.763113</td>\n",
       "      <td>o3</td>\n",
       "    </tr>\n",
       "    <tr>\n",
       "      <th>copy</th>\n",
       "      <td>100.219389</td>\n",
       "      <td>29.961154</td>\n",
       "      <td>20.418367</td>\n",
       "      <td>stallall</td>\n",
       "    </tr>\n",
       "    <tr>\n",
       "      <th>fib rec</th>\n",
       "      <td>84.603344</td>\n",
       "      <td>29.258326</td>\n",
       "      <td>20.373265</td>\n",
       "      <td>stallall</td>\n",
       "    </tr>\n",
       "    <tr>\n",
       "      <th>alexnet</th>\n",
       "      <td>103.003701</td>\n",
       "      <td>29.372975</td>\n",
       "      <td>19.892881</td>\n",
       "      <td>stallall</td>\n",
       "    </tr>\n",
       "    <tr>\n",
       "      <th>knight tour</th>\n",
       "      <td>96.597451</td>\n",
       "      <td>27.978149</td>\n",
       "      <td>18.986571</td>\n",
       "      <td>stallall</td>\n",
       "    </tr>\n",
       "    <tr>\n",
       "      <th>bfs</th>\n",
       "      <td>100.592852</td>\n",
       "      <td>29.358941</td>\n",
       "      <td>19.943660</td>\n",
       "      <td>stallall</td>\n",
       "    </tr>\n",
       "    <tr>\n",
       "      <th>prio queue</th>\n",
       "      <td>90.490280</td>\n",
       "      <td>26.366855</td>\n",
       "      <td>17.907219</td>\n",
       "      <td>stallall</td>\n",
       "    </tr>\n",
       "    <tr>\n",
       "      <th>copy</th>\n",
       "      <td>100.219389</td>\n",
       "      <td>61.528799</td>\n",
       "      <td>48.934419</td>\n",
       "      <td>optimized-if</td>\n",
       "    </tr>\n",
       "    <tr>\n",
       "      <th>fib rec</th>\n",
       "      <td>84.603344</td>\n",
       "      <td>58.636219</td>\n",
       "      <td>48.676170</td>\n",
       "      <td>optimized-if</td>\n",
       "    </tr>\n",
       "    <tr>\n",
       "      <th>alexnet</th>\n",
       "      <td>103.003701</td>\n",
       "      <td>59.098512</td>\n",
       "      <td>46.020937</td>\n",
       "      <td>optimized-if</td>\n",
       "    </tr>\n",
       "    <tr>\n",
       "      <th>knight tour</th>\n",
       "      <td>96.597451</td>\n",
       "      <td>53.710947</td>\n",
       "      <td>41.444242</td>\n",
       "      <td>optimized-if</td>\n",
       "    </tr>\n",
       "    <tr>\n",
       "      <th>bfs</th>\n",
       "      <td>100.592852</td>\n",
       "      <td>59.041725</td>\n",
       "      <td>46.293622</td>\n",
       "      <td>optimized-if</td>\n",
       "    </tr>\n",
       "    <tr>\n",
       "      <th>prio queue</th>\n",
       "      <td>90.490280</td>\n",
       "      <td>48.071366</td>\n",
       "      <td>36.625475</td>\n",
       "      <td>optimized-if</td>\n",
       "    </tr>\n",
       "  </tbody>\n",
       "</table>\n",
       "</div>"
      ],
      "text/plain": [
       "                   MIPS      MIPS_3     MIPS_5         model\n",
       "program                                                     \n",
       "copy         169.384589  121.956884  88.557920            o3\n",
       "fib rec      181.499029  100.163426  65.831800            o3\n",
       "alexnet      200.134903  114.451045  73.202713            o3\n",
       "knight tour  202.395180  111.482230  72.056224            o3\n",
       "bfs          212.846494  113.523786  75.473660            o3\n",
       "prio queue   187.186895   94.376478  60.763113            o3\n",
       "copy         100.219389   29.961154  20.418367      stallall\n",
       "fib rec       84.603344   29.258326  20.373265      stallall\n",
       "alexnet      103.003701   29.372975  19.892881      stallall\n",
       "knight tour   96.597451   27.978149  18.986571      stallall\n",
       "bfs          100.592852   29.358941  19.943660      stallall\n",
       "prio queue    90.490280   26.366855  17.907219      stallall\n",
       "copy         100.219389   61.528799  48.934419  optimized-if\n",
       "fib rec       84.603344   58.636219  48.676170  optimized-if\n",
       "alexnet      103.003701   59.098512  46.020937  optimized-if\n",
       "knight tour   96.597451   53.710947  41.444242  optimized-if\n",
       "bfs          100.592852   59.041725  46.293622  optimized-if\n",
       "prio queue    90.490280   48.071366  36.625475  optimized-if"
      ]
     },
     "execution_count": 99,
     "metadata": {},
     "output_type": "execute_result"
    },
    {
     "data": {
      "image/png": "[encoded data removed]",
      "text/plain": [
       "<Figure size 832.625x700 with 1 Axes>"
      ]
     },
     "metadata": {},
     "output_type": "display_data"
    }
   ],
   "source": [
    "import seaborn as sns\n",
    "o3[\"model\"] = \"o3\"\n",
    "baseline_stall[\"model\"] = \"stallall\"\n",
    "baseline_optimized[\"model\"] = \"optimized-if\"\n",
    "comb = pd.concat([o3,baseline_stall, baseline_optimized])\n",
    "g = sns.catplot(data=comb, kind=\"bar\", x=\"program\", y=\"MIPS_5\", hue=\"model\", height=7)\n",
    "comb"
   ]
  },
  {
   "cell_type": "code",
   "execution_count": 112,
   "metadata": {},
   "outputs": [
    {
     "name": "stdout",
     "output_type": "stream",
     "text": [
      "\\begin{tabular}{lrr}\n",
      "\\toprule\n",
      " & cpi & misprediction rate \\\\\n",
      "predictor &  &  \\\\\n",
      "\\midrule\n",
      "bimod & 2.89 & 0.19 \\\\\n",
      "not taken & 3.12 & 0.59 \\\\\n",
      "tournament & 2.87 & 0.17 \\\\\n",
      "\\bottomrule\n",
      "\\end{tabular}\n",
      "\n"
     ]
    }
   ],
   "source": [
    "not_taken = pd.read_csv(\"bp_nottaken_o3_5_delay.csv\")\n",
    "not_taken[\"predictor\"] = \"not taken\"\n",
    "not_taken[\"cycles\"] = not_taken[\"inst_count\"]*not_taken[\"cpi\"]\n",
    "bimod = pd.read_csv(\"bp_bimod_o3_5_delay.csv\")\n",
    "bimod[\"predictor\"] = \"bimod\"\n",
    "bimod[\"cycles\"] = bimod[\"inst_count\"]*bimod[\"cpi\"]\n",
    "tournament = pd.read_csv(\"bp_tournament_o3_5_delay.csv\")\n",
    "tournament[\"predictor\"] = \"tournament\"\n",
    "tournament[\"cycles\"] = tournament[\"inst_count\"]*tournament[\"cpi\"]\n",
    "bp = pd.concat([not_taken, bimod, tournament])\n",
    "bp = bp.groupby(\"predictor\").sum()\n",
    "bp[\"cpi\"] = bp[\"cycles\"]/bp[\"inst_count\"]\n",
    "bp[\"misprediction rate\"] = bp[\"misprediction_count\"]/bp[\"branch_count\"]\n",
    "bp = bp.drop(columns=[\"program\",\"inst_count\", \"misprediction_count\",\"cycles\",\"branch_count\"])\n",
    "print(bp.to_latex(float_format=\"{:.2f}\".format))"
   ]
  },
  {
   "cell_type": "code",
   "execution_count": 118,
   "metadata": {},
   "outputs": [
    {
     "data": {
      "text/plain": [
       "<seaborn.axisgrid.FacetGrid at 0x7f461dbc8b30>"
      ]
     },
     "execution_count": 118,
     "metadata": {},
     "output_type": "execute_result"
    },
    {
     "data": {
      "image/png": "[encoded data removed]",
      "text/plain": [
       "<Figure size 791.111x700 with 1 Axes>"
      ]
     },
     "metadata": {},
     "output_type": "display_data"
    }
   ],
   "source": [
    "spec = pd.read_csv(\"advanced_o3_5_delay.csv\")\n",
    "spec[\"speculation\"] = \"yes\"\n",
    "nospec = pd.read_csv(\"nospec_o3_5_delay.csv\")\n",
    "nospec[\"speculation\"] = \"no\"\n",
    "sp = pd.concat([spec,nospec])\n",
    "g = sns.catplot(data=sp, kind=\"bar\", x=\"program\", y=\"cpi3\", hue=\"speculation\", height=7)\n",
    "g.set_ylabels(label=\"CPI\")\n"
   ]
  },
  {
   "cell_type": "code",
   "execution_count": null,
   "metadata": {},
   "outputs": [],
   "source": []
  },
  {
   "cell_type": "code",
   "execution_count": null,
   "metadata": {},
   "outputs": [],
   "source": []
  },
  {
   "cell_type": "code",
   "execution_count": null,
   "metadata": {},
   "outputs": [],
   "source": []
  }
 ],
 "metadata": {
  "kernelspec": {
   "display_name": "xvecbee",
   "language": "python",
   "name": "python3"
  },
  "language_info": {
   "codemirror_mode": {
    "name": "ipython",
    "version": 3
   },
   "file_extension": ".py",
   "mimetype": "text/x-python",
   "name": "python",
   "nbconvert_exporter": "python",
   "pygments_lexer": "ipython3",
   "version": "3.12.2"
  }
 },
 "nbformat": 4,
 "nbformat_minor": 2
}
